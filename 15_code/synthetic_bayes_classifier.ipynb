{
 "cells": [
  {
   "cell_type": "code",
   "execution_count": 1,
   "metadata": {},
   "outputs": [],
   "source": [
    "from sklearn.feature_extraction.text import TfidfVectorizer, CountVectorizer\n",
    "from sklearn.naive_bayes import MultinomialNB\n",
    "from sklearn import metrics\n",
    "import pandas as pd\n",
    "import seaborn as sns\n",
    "import matplotlib.pyplot as plt\n",
    "from sklearn.metrics import plot_confusion_matrix\n"
   ]
  },
  {
   "cell_type": "markdown",
   "metadata": {},
   "source": [
    "Here, we implement the Naive Bayesian classifier on the synthetic data. First we read in the synthetic data, and split it into test and train (80-20 split)."
   ]
  },
  {
   "cell_type": "code",
   "execution_count": 2,
   "metadata": {},
   "outputs": [],
   "source": [
    "df = pd.read_parquet(\"../10_datasets/synthetic.parquet\", engine=\"fastparquet\").reset_index(\n",
    "    drop=True\n",
    ")\n",
    "train_data = df.sample(frac=0.8, random_state=3320)\n",
    "test_data = df.drop(train_data.index)\n",
    "train_x = train_data[\"total_post\"]\n",
    "train_y = train_data[\"label_type\"]\n",
    "test_x = test_data[\"total_post\"]\n",
    "test_y = test_data[\"label_type\"]\n"
   ]
  },
  {
   "cell_type": "markdown",
   "metadata": {},
   "source": [
    "Here, we use CountVectorizer from Scikit-Learn to calculate word frequency, stripping accents, converting all strings to lowercase, and removing stop words."
   ]
  },
  {
   "cell_type": "code",
   "execution_count": 3,
   "metadata": {},
   "outputs": [],
   "source": [
    "tf_vectorizer = CountVectorizer(strip_accents=\"unicode\", lowercase = True, stop_words=\"english\") \n",
    "X_train_tf = tf_vectorizer.fit_transform(train_x)"
   ]
  },
  {
   "cell_type": "code",
   "execution_count": 4,
   "metadata": {},
   "outputs": [
    {
     "data": {
      "text/plain": [
       "MultinomialNB()"
      ]
     },
     "execution_count": 4,
     "metadata": {},
     "output_type": "execute_result"
    }
   ],
   "source": [
    "X_test_tf = tf_vectorizer.transform(test_x)\n",
    "naive_bayes_classifier = MultinomialNB()\n",
    "naive_bayes_classifier.fit(X_train_tf, train_y)"
   ]
  },
  {
   "cell_type": "code",
   "execution_count": 5,
   "metadata": {},
   "outputs": [],
   "source": [
    "y_pred = naive_bayes_classifier.predict(X_test_tf)\n",
    "score1 = metrics.accuracy_score(test_y, y_pred)"
   ]
  },
  {
   "cell_type": "code",
   "execution_count": 6,
   "metadata": {},
   "outputs": [
    {
     "data": {
      "text/plain": [
       "0.9145833333333333"
      ]
     },
     "execution_count": 6,
     "metadata": {},
     "output_type": "execute_result"
    }
   ],
   "source": [
    "score1"
   ]
  },
  {
   "cell_type": "markdown",
   "metadata": {},
   "source": [
    "After fitting the classifier, we can evaluate the score, build a confusion matrix, and extract precision and recall for each category"
   ]
  },
  {
   "cell_type": "code",
   "execution_count": 7,
   "metadata": {},
   "outputs": [],
   "source": [
    "conf = metrics.confusion_matrix(test_y, y_pred)"
   ]
  },
  {
   "cell_type": "code",
   "execution_count": 8,
   "metadata": {},
   "outputs": [
    {
     "data": {
      "image/png": "[encoded data removed]",
      "text/plain": [
       "<Figure size 432x288 with 2 Axes>"
      ]
     },
     "metadata": {
      "needs_background": "light"
     },
     "output_type": "display_data"
    }
   ],
   "source": [
    "ax = sns.heatmap(conf, annot=True, fmt=\"g\", cmap=\"Blues\")\n",
    "ax.set_title(\"Text Classificaiton Confusion Matrix\\n\\n\")\n",
    "ax.set_xlabel(\"\\nPredicted Values\")\n",
    "ax.set_ylabel(\"Actual Values \")\n",
    "ax.xaxis.set_ticklabels([\"Democrat\", \"Neutral\", \"Republican\"])\n",
    "ax.yaxis.set_ticklabels([\"Democrat\", \"Neutral\", \"Republican\"])\n",
    "plt.savefig(\"../30_outputs/synthetic_bayesian.png\", bbox_inches=\"tight\", dpi = 300)\n"
   ]
  },
  {
   "cell_type": "code",
   "execution_count": 9,
   "metadata": {},
   "outputs": [
    {
     "name": "stdout",
     "output_type": "stream",
     "text": [
      "              precision    recall  f1-score   support\n",
      "\n",
      "    democrat       0.92      0.86      0.89       791\n",
      "     neutral       0.93      0.98      0.95       804\n",
      "  republican       0.89      0.91      0.90       805\n",
      "\n",
      "    accuracy                           0.91      2400\n",
      "   macro avg       0.91      0.91      0.91      2400\n",
      "weighted avg       0.91      0.91      0.91      2400\n",
      "\n"
     ]
    }
   ],
   "source": [
    "print(metrics.classification_report(test_y, y_pred, target_names = [\"democrat\", \"neutral\", \"republican\"]))"
   ]
  }
 ],
 "metadata": {
  "interpreter": {
   "hash": "84b1e2213175d1b29c0c106fcfdfa2350458511224f0b9c320f712c5e7a09711"
  },
  "kernelspec": {
   "display_name": "Python 3.9.7 64-bit ('base': conda)",
   "language": "python",
   "name": "python3"
  },
  "language_info": {
   "codemirror_mode": {
    "name": "ipython",
    "version": 3
   },
   "file_extension": ".py",
   "mimetype": "text/x-python",
   "name": "python",
   "nbconvert_exporter": "python",
   "pygments_lexer": "ipython3",
   "version": "3.9.7"
  },
  "orig_nbformat": 4
 },
 "nbformat": 4,
 "nbformat_minor": 2
}
