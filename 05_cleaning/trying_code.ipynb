{
 "cells": [
  {
   "cell_type": "code",
   "execution_count": 1,
   "metadata": {},
   "outputs": [
    {
     "data": {
      "text/plain": [
       "'1.9.1.post3'"
      ]
     },
     "execution_count": 1,
     "metadata": {},
     "output_type": "execute_result"
    }
   ],
   "source": [
    "import pandas as pd\n",
    "import torch\n",
    "from torch import nn\n",
    "import numpy as np\n",
    "import pandas as pd\n",
    "from sklearn.model_selection import train_test_split\n",
    "from sklearn.feature_extraction.text import TfidfVectorizer\n",
    "import scipy\n",
    "from torch import optim\n",
    "import matplotlib.pyplot as plt\n",
    "%matplotlib inline\n",
    "%config InlineBackend.figure_format = 'retina'\n",
    "torch.__version__"
   ]
  },
  {
   "cell_type": "code",
   "execution_count": 2,
   "metadata": {},
   "outputs": [],
   "source": [
    "democrats = pd.read_parquet(\"../10_datasets/democrats\")\n",
    "republicans = pd.read_parquet(\"../10_datasets/neutral.parquet\")\n",
    "neutral = pd.read_parquet(\"../10_datasets/republican.parquet\")"
   ]
  },
  {
   "cell_type": "code",
   "execution_count": 3,
   "metadata": {},
   "outputs": [
    {
     "data": {
      "text/plain": [
       "(4937, 7)"
      ]
     },
     "execution_count": 3,
     "metadata": {},
     "output_type": "execute_result"
    }
   ],
   "source": [
    "democrats.shape"
   ]
  },
  {
   "cell_type": "code",
   "execution_count": 4,
   "metadata": {},
   "outputs": [
    {
     "data": {
      "text/plain": [
       "NeutralPolitics    4760\n",
       "Name: subreddit, dtype: int64"
      ]
     },
     "execution_count": 4,
     "metadata": {},
     "output_type": "execute_result"
    }
   ],
   "source": [
    "republicans[\"subreddit\"].value_counts()"
   ]
  },
  {
   "cell_type": "code",
   "execution_count": 5,
   "metadata": {},
   "outputs": [],
   "source": [
    "df = pd.concat([democrats, republicans, neutral])"
   ]
  },
  {
   "cell_type": "code",
   "execution_count": 7,
   "metadata": {},
   "outputs": [
    {
     "data": {
      "text/html": [
       "<div>\n",
       "<style scoped>\n",
       "    .dataframe tbody tr th:only-of-type {\n",
       "        vertical-align: middle;\n",
       "    }\n",
       "\n",
       "    .dataframe tbody tr th {\n",
       "        vertical-align: top;\n",
       "    }\n",
       "\n",
       "    .dataframe thead th {\n",
       "        text-align: right;\n",
       "    }\n",
       "</style>\n",
       "<table border=\"1\" class=\"dataframe\">\n",
       "  <thead>\n",
       "    <tr style=\"text-align: right;\">\n",
       "      <th></th>\n",
       "      <th>id</th>\n",
       "      <th>total_post</th>\n",
       "      <th>subreddit</th>\n",
       "      <th>score</th>\n",
       "      <th>type</th>\n",
       "      <th>title</th>\n",
       "      <th>text</th>\n",
       "    </tr>\n",
       "    <tr>\n",
       "      <th>index</th>\n",
       "      <th></th>\n",
       "      <th></th>\n",
       "      <th></th>\n",
       "      <th></th>\n",
       "      <th></th>\n",
       "      <th></th>\n",
       "      <th></th>\n",
       "    </tr>\n",
       "  </thead>\n",
       "  <tbody>\n",
       "    <tr>\n",
       "      <th>2818</th>\n",
       "      <td>ggh2x3s</td>\n",
       "      <td>Putin and the Russian oligarchy are the money ...</td>\n",
       "      <td>democrats</td>\n",
       "      <td>6.0</td>\n",
       "      <td>comment</td>\n",
       "      <td>None</td>\n",
       "      <td>None</td>\n",
       "    </tr>\n",
       "    <tr>\n",
       "      <th>49047</th>\n",
       "      <td>ftfbnpa</td>\n",
       "      <td>Don't worry, the conservatived would never do ...</td>\n",
       "      <td>democrats</td>\n",
       "      <td>4.0</td>\n",
       "      <td>comment</td>\n",
       "      <td>None</td>\n",
       "      <td>None</td>\n",
       "    </tr>\n",
       "    <tr>\n",
       "      <th>28276</th>\n",
       "      <td>g5rlhoy</td>\n",
       "      <td>RIP an amazing judge who accomplished a lot ov...</td>\n",
       "      <td>democrats</td>\n",
       "      <td>5.0</td>\n",
       "      <td>comment</td>\n",
       "      <td>None</td>\n",
       "      <td>None</td>\n",
       "    </tr>\n",
       "    <tr>\n",
       "      <th>8614</th>\n",
       "      <td>gd1798c</td>\n",
       "      <td>Trump and his legion during the opening of the...</td>\n",
       "      <td>democrats</td>\n",
       "      <td>8.0</td>\n",
       "      <td>comment</td>\n",
       "      <td>None</td>\n",
       "      <td>None</td>\n",
       "    </tr>\n",
       "    <tr>\n",
       "      <th>40142</th>\n",
       "      <td>fyruoz3</td>\n",
       "      <td>The eventual goal is election policing to try ...</td>\n",
       "      <td>democrats</td>\n",
       "      <td>9.0</td>\n",
       "      <td>comment</td>\n",
       "      <td>None</td>\n",
       "      <td>None</td>\n",
       "    </tr>\n",
       "  </tbody>\n",
       "</table>\n",
       "</div>"
      ],
      "text/plain": [
       "            id                                         total_post  subreddit  \\\n",
       "index                                                                          \n",
       "2818   ggh2x3s  Putin and the Russian oligarchy are the money ...  democrats   \n",
       "49047  ftfbnpa  Don't worry, the conservatived would never do ...  democrats   \n",
       "28276  g5rlhoy  RIP an amazing judge who accomplished a lot ov...  democrats   \n",
       "8614   gd1798c  Trump and his legion during the opening of the...  democrats   \n",
       "40142  fyruoz3  The eventual goal is election policing to try ...  democrats   \n",
       "\n",
       "       score     type title  text  \n",
       "index                              \n",
       "2818     6.0  comment  None  None  \n",
       "49047    4.0  comment  None  None  \n",
       "28276    5.0  comment  None  None  \n",
       "8614     8.0  comment  None  None  \n",
       "40142    9.0  comment  None  None  "
      ]
     },
     "execution_count": 7,
     "metadata": {},
     "output_type": "execute_result"
    }
   ],
   "source": [
    "df.head()"
   ]
  },
  {
   "cell_type": "code",
   "execution_count": 8,
   "metadata": {},
   "outputs": [],
   "source": [
    "from sklearn.preprocessing import LabelEncoder\n",
    "le = LabelEncoder().fit(df[\"subreddit\"])\n",
    "df['encoded_subreddit'] = le.transform(df['subreddit'])"
   ]
  },
  {
   "cell_type": "code",
   "execution_count": 9,
   "metadata": {},
   "outputs": [
    {
     "data": {
      "text/plain": [
       "2    282\n",
       "1    248\n",
       "0      5\n",
       "Name: encoded_subreddit, dtype: int64"
      ]
     },
     "execution_count": 9,
     "metadata": {},
     "output_type": "execute_result"
    }
   ],
   "source": [
    "df['encoded_subreddit'].value_counts()"
   ]
  },
  {
   "cell_type": "code",
   "execution_count": 10,
   "metadata": {},
   "outputs": [],
   "source": [
    "x_train, x_test, y_train, y_test = train_test_split(\n",
    "    df['total_post'], df['encoded_subreddit'], test_size=.2, stratify=df['subreddit'], random_state=42)"
   ]
  },
  {
   "cell_type": "code",
   "execution_count": 11,
   "metadata": {},
   "outputs": [
    {
     "name": "stdout",
     "output_type": "stream",
     "text": [
      "(428,) (107,) (428,) (107,)\n"
     ]
    }
   ],
   "source": [
    "print(x_train.shape, x_test.shape, y_train.shape, y_test.shape)\n"
   ]
  },
  {
   "cell_type": "code",
   "execution_count": 12,
   "metadata": {},
   "outputs": [],
   "source": [
    "vectorizer = TfidfVectorizer(lowercase=True)\n",
    "x_train = vectorizer.fit_transform(x_train)\n",
    "x_test = vectorizer.transform(x_test)\n"
   ]
  },
  {
   "cell_type": "code",
   "execution_count": 13,
   "metadata": {},
   "outputs": [],
   "source": [
    "x_train = torch.tensor(scipy.sparse.csr_matrix.todense(x_train)).float()\n",
    "x_test = torch.tensor(scipy.sparse.csr_matrix.todense(x_test)).float()"
   ]
  },
  {
   "cell_type": "code",
   "execution_count": 14,
   "metadata": {},
   "outputs": [],
   "source": [
    "y_train = torch.tensor(y_train.values)\n",
    "y_test = torch.tensor(y_test.values)"
   ]
  },
  {
   "cell_type": "code",
   "execution_count": 15,
   "metadata": {},
   "outputs": [],
   "source": [
    "model = nn.Sequential(nn.Linear(x_train.shape[1], 64),\n",
    "                      nn.ReLU(),\n",
    "                      nn.Dropout(0.1),\n",
    "                      nn.Linear(64, df['subreddit'].nunique()),\n",
    "                      nn.LogSoftmax(dim=1))\n",
    "\n",
    "# Define the loss\n",
    "criterion = nn.NLLLoss()\n",
    "\n",
    "# Forward pass, get our logits\n",
    "logps = model(x_train)\n",
    "# Calculate the loss with the logits and the labels\n",
    "loss = criterion(logps, y_train)\n",
    "\n",
    "loss.backward()\n",
    "\n",
    "# Optimizers require the parameters to optimize and a learning rate\n",
    "optimizer = optim.Adam(model.parameters(), lr=0.002)"
   ]
  },
  {
   "cell_type": "code",
   "execution_count": 16,
   "metadata": {},
   "outputs": [
    {
     "name": "stdout",
     "output_type": "stream",
     "text": [
      "Epoch: 1/50..  Training Loss: 1.071..  Test Loss: 1.062..  Test Accuracy: 0.607\n",
      "Epoch: 2/50..  Training Loss: 1.057..  Test Loss: 1.051..  Test Accuracy: 0.654\n",
      "Epoch: 3/50..  Training Loss: 1.042..  Test Loss: 1.040..  Test Accuracy: 0.682\n",
      "Epoch: 4/50..  Training Loss: 1.025..  Test Loss: 1.028..  Test Accuracy: 0.682\n",
      "Epoch: 5/50..  Training Loss: 1.006..  Test Loss: 1.015..  Test Accuracy: 0.701\n",
      "Epoch: 6/50..  Training Loss: 0.986..  Test Loss: 1.002..  Test Accuracy: 0.701\n",
      "Epoch: 7/50..  Training Loss: 0.967..  Test Loss: 0.989..  Test Accuracy: 0.701\n",
      "Epoch: 8/50..  Training Loss: 0.945..  Test Loss: 0.975..  Test Accuracy: 0.701\n",
      "Epoch: 9/50..  Training Loss: 0.922..  Test Loss: 0.962..  Test Accuracy: 0.701\n",
      "Epoch: 10/50..  Training Loss: 0.898..  Test Loss: 0.948..  Test Accuracy: 0.701\n",
      "Epoch: 11/50..  Training Loss: 0.874..  Test Loss: 0.934..  Test Accuracy: 0.701\n",
      "Epoch: 12/50..  Training Loss: 0.850..  Test Loss: 0.919..  Test Accuracy: 0.692\n",
      "Epoch: 13/50..  Training Loss: 0.825..  Test Loss: 0.905..  Test Accuracy: 0.692\n",
      "Epoch: 14/50..  Training Loss: 0.799..  Test Loss: 0.891..  Test Accuracy: 0.701\n",
      "Epoch: 15/50..  Training Loss: 0.775..  Test Loss: 0.877..  Test Accuracy: 0.692\n",
      "Epoch: 16/50..  Training Loss: 0.749..  Test Loss: 0.864..  Test Accuracy: 0.692\n",
      "Epoch: 17/50..  Training Loss: 0.722..  Test Loss: 0.850..  Test Accuracy: 0.692\n",
      "Epoch: 18/50..  Training Loss: 0.696..  Test Loss: 0.837..  Test Accuracy: 0.682\n",
      "Epoch: 19/50..  Training Loss: 0.670..  Test Loss: 0.824..  Test Accuracy: 0.682\n",
      "Epoch: 20/50..  Training Loss: 0.645..  Test Loss: 0.812..  Test Accuracy: 0.682\n",
      "Epoch: 21/50..  Training Loss: 0.618..  Test Loss: 0.799..  Test Accuracy: 0.682\n",
      "Epoch: 22/50..  Training Loss: 0.593..  Test Loss: 0.788..  Test Accuracy: 0.682\n",
      "Epoch: 23/50..  Training Loss: 0.566..  Test Loss: 0.776..  Test Accuracy: 0.682\n",
      "Epoch: 24/50..  Training Loss: 0.541..  Test Loss: 0.766..  Test Accuracy: 0.682\n",
      "Epoch: 25/50..  Training Loss: 0.518..  Test Loss: 0.755..  Test Accuracy: 0.682\n",
      "Epoch: 26/50..  Training Loss: 0.498..  Test Loss: 0.745..  Test Accuracy: 0.692\n",
      "Epoch: 27/50..  Training Loss: 0.471..  Test Loss: 0.736..  Test Accuracy: 0.692\n",
      "Epoch: 28/50..  Training Loss: 0.447..  Test Loss: 0.727..  Test Accuracy: 0.701\n",
      "Epoch: 29/50..  Training Loss: 0.427..  Test Loss: 0.719..  Test Accuracy: 0.701\n",
      "Epoch: 30/50..  Training Loss: 0.407..  Test Loss: 0.711..  Test Accuracy: 0.701\n",
      "Epoch: 31/50..  Training Loss: 0.385..  Test Loss: 0.703..  Test Accuracy: 0.692\n",
      "Epoch: 32/50..  Training Loss: 0.365..  Test Loss: 0.696..  Test Accuracy: 0.692\n",
      "Epoch: 33/50..  Training Loss: 0.348..  Test Loss: 0.689..  Test Accuracy: 0.692\n",
      "Epoch: 34/50..  Training Loss: 0.326..  Test Loss: 0.683..  Test Accuracy: 0.682\n",
      "Epoch: 35/50..  Training Loss: 0.309..  Test Loss: 0.677..  Test Accuracy: 0.682\n",
      "Epoch: 36/50..  Training Loss: 0.297..  Test Loss: 0.672..  Test Accuracy: 0.682\n",
      "Epoch: 37/50..  Training Loss: 0.277..  Test Loss: 0.667..  Test Accuracy: 0.682\n",
      "Epoch: 38/50..  Training Loss: 0.260..  Test Loss: 0.663..  Test Accuracy: 0.682\n",
      "Epoch: 39/50..  Training Loss: 0.248..  Test Loss: 0.658..  Test Accuracy: 0.682\n",
      "Epoch: 40/50..  Training Loss: 0.235..  Test Loss: 0.655..  Test Accuracy: 0.682\n",
      "Epoch: 41/50..  Training Loss: 0.224..  Test Loss: 0.651..  Test Accuracy: 0.682\n",
      "Epoch: 42/50..  Training Loss: 0.212..  Test Loss: 0.648..  Test Accuracy: 0.682\n",
      "Epoch: 43/50..  Training Loss: 0.198..  Test Loss: 0.645..  Test Accuracy: 0.682\n",
      "Epoch: 44/50..  Training Loss: 0.187..  Test Loss: 0.643..  Test Accuracy: 0.673\n",
      "Epoch: 45/50..  Training Loss: 0.175..  Test Loss: 0.640..  Test Accuracy: 0.673\n",
      "Epoch: 46/50..  Training Loss: 0.167..  Test Loss: 0.639..  Test Accuracy: 0.673\n",
      "Epoch: 47/50..  Training Loss: 0.157..  Test Loss: 0.637..  Test Accuracy: 0.664\n",
      "Epoch: 48/50..  Training Loss: 0.150..  Test Loss: 0.636..  Test Accuracy: 0.664\n",
      "Epoch: 49/50..  Training Loss: 0.144..  Test Loss: 0.635..  Test Accuracy: 0.664\n",
      "Epoch: 50/50..  Training Loss: 0.132..  Test Loss: 0.634..  Test Accuracy: 0.673\n",
      "CPU times: user 2.06 s, sys: 1.15 s, total: 3.21 s\n",
      "Wall time: 551 ms\n"
     ]
    }
   ],
   "source": [
    "%%time\n",
    "train_losses = []\n",
    "test_losses = []\n",
    "test_accuracies = []\n",
    "\n",
    "epochs = 50\n",
    "for e in range(epochs):\n",
    "    optimizer.zero_grad()\n",
    "\n",
    "    output = model.forward(x_train)\n",
    "    loss = criterion(output, y_train)\n",
    "    loss.backward()\n",
    "    train_loss = loss.item()\n",
    "    train_losses.append(train_loss)\n",
    "    \n",
    "    optimizer.step()\n",
    "\n",
    "    # Turn off gradients for validation, saves memory and computations\n",
    "    with torch.no_grad():\n",
    "        model.eval()\n",
    "        log_ps = model(x_test)\n",
    "        test_loss = criterion(log_ps, y_test)\n",
    "        test_losses.append(test_loss)\n",
    "\n",
    "        ps = torch.exp(log_ps)\n",
    "        top_p, top_class = ps.topk(1, dim=1)\n",
    "        equals = top_class == y_test.view(*top_class.shape)\n",
    "        test_accuracy = torch.mean(equals.float())\n",
    "        test_accuracies.append(test_accuracy)\n",
    "\n",
    "    model.train()\n",
    "\n",
    "    print(f\"Epoch: {e+1}/{epochs}.. \",\n",
    "          f\"Training Loss: {train_loss:.3f}.. \",\n",
    "          f\"Test Loss: {test_loss:.3f}.. \",\n",
    "          f\"Test Accuracy: {test_accuracy:.3f}\")"
   ]
  },
  {
   "cell_type": "code",
   "execution_count": 17,
   "metadata": {},
   "outputs": [
    {
     "data": {
      "image/png": "[encoded data removed]",
      "text/plain": [
       "<Figure size 864x360 with 2 Axes>"
      ]
     },
     "metadata": {
      "needs_background": "light"
     },
     "output_type": "display_data"
    }
   ],
   "source": [
    "plt.figure(figsize=(12, 5))\n",
    "ax = plt.subplot(121)\n",
    "plt.xlabel('epochs')\n",
    "plt.ylabel('negative log likelihood loss')\n",
    "plt.plot(train_losses, label='Training loss')\n",
    "plt.plot(test_losses, label='Validation loss')\n",
    "plt.legend(frameon=False);\n",
    "plt.subplot(122)\n",
    "plt.xlabel('epochs')\n",
    "plt.ylabel('test accuracy')\n",
    "plt.plot(test_accuracies);"
   ]
  }
 ],
 "metadata": {
  "interpreter": {
   "hash": "84b1e2213175d1b29c0c106fcfdfa2350458511224f0b9c320f712c5e7a09711"
  },
  "kernelspec": {
   "display_name": "Python 3.9.7 64-bit ('base': conda)",
   "language": "python",
   "name": "python3"
  },
  "language_info": {
   "codemirror_mode": {
    "name": "ipython",
    "version": 3
   },
   "file_extension": ".py",
   "mimetype": "text/x-python",
   "name": "python",
   "nbconvert_exporter": "python",
   "pygments_lexer": "ipython3",
   "version": "3.9.7"
  },
  "orig_nbformat": 4
 },
 "nbformat": 4,
 "nbformat_minor": 2
}
