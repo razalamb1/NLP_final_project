{
 "cells": [
  {
   "cell_type": "code",
   "execution_count": 34,
   "metadata": {},
   "outputs": [],
   "source": [
    "from sklearn.feature_extraction.text import TfidfVectorizer, CountVectorizer\n",
    "from sklearn.naive_bayes import MultinomialNB\n",
    "from sklearn import metrics\n",
    "import pandas as pd\n",
    "from nltk.corpus import stopwords"
   ]
  },
  {
   "cell_type": "code",
   "execution_count": 52,
   "metadata": {},
   "outputs": [],
   "source": [
    "dem = pd.read_parquet(\"10_datasets/democrats.parquet\", engine='fastparquet')\n",
    "rep = pd.read_parquet(\"10_datasets/republican.parquet\", engine='fastparquet')\n",
    "neut = pd.read_parquet(\"10_datasets/neutral.parquet\", engine='fastparquet')"
   ]
  },
  {
   "cell_type": "code",
   "execution_count": 53,
   "metadata": {},
   "outputs": [],
   "source": [
    "test = pd.concat([dem, rep, neut])"
   ]
  },
  {
   "cell_type": "code",
   "execution_count": 55,
   "metadata": {},
   "outputs": [
    {
     "data": {
      "text/plain": [
       "democrats          4937\n",
       "Republican         4809\n",
       "NeutralPolitics    4760\n",
       "Name: subreddit, dtype: int64"
      ]
     },
     "execution_count": 55,
     "metadata": {},
     "output_type": "execute_result"
    }
   ],
   "source": [
    "test.subreddit.value_counts()"
   ]
  },
  {
   "cell_type": "code",
   "execution_count": 36,
   "metadata": {},
   "outputs": [],
   "source": [
    "dem['label_type']=\"democrat\"\n",
    "rep['label_type']=\"republican\"\n",
    "neut['label_type']=\"neutral\""
   ]
  },
  {
   "cell_type": "code",
   "execution_count": 37,
   "metadata": {},
   "outputs": [
    {
     "data": {
      "text/plain": [
       "democrat      4937\n",
       "republican    4809\n",
       "neutral       4760\n",
       "Name: label_type, dtype: int64"
      ]
     },
     "execution_count": 37,
     "metadata": {},
     "output_type": "execute_result"
    }
   ],
   "source": [
    "data=dem.append(rep)\n",
    "data=data.append(neut)\n",
    "data['label_type'].value_counts()"
   ]
  },
  {
   "cell_type": "code",
   "execution_count": 38,
   "metadata": {},
   "outputs": [],
   "source": [
    "train_data = data.sample(frac=0.8,random_state=3320)\n",
    "test_data = data.drop(train_data.index)"
   ]
  },
  {
   "cell_type": "code",
   "execution_count": 51,
   "metadata": {},
   "outputs": [
    {
     "data": {
      "text/plain": [
       "(11605, 8)"
      ]
     },
     "execution_count": 51,
     "metadata": {},
     "output_type": "execute_result"
    }
   ],
   "source": [
    "train_data.shape"
   ]
  },
  {
   "cell_type": "code",
   "execution_count": 50,
   "metadata": {},
   "outputs": [
    {
     "data": {
      "text/plain": [
       "(1541, 8)"
      ]
     },
     "execution_count": 50,
     "metadata": {},
     "output_type": "execute_result"
    }
   ],
   "source": [
    "test_data.shape"
   ]
  },
  {
   "cell_type": "markdown",
   "metadata": {},
   "source": []
  },
  {
   "cell_type": "code",
   "execution_count": 39,
   "metadata": {},
   "outputs": [
    {
     "data": {
      "text/html": [
       "<div>\n",
       "<style scoped>\n",
       "    .dataframe tbody tr th:only-of-type {\n",
       "        vertical-align: middle;\n",
       "    }\n",
       "\n",
       "    .dataframe tbody tr th {\n",
       "        vertical-align: top;\n",
       "    }\n",
       "\n",
       "    .dataframe thead th {\n",
       "        text-align: right;\n",
       "    }\n",
       "</style>\n",
       "<table border=\"1\" class=\"dataframe\">\n",
       "  <thead>\n",
       "    <tr style=\"text-align: right;\">\n",
       "      <th></th>\n",
       "      <th>id</th>\n",
       "      <th>total_post</th>\n",
       "      <th>subreddit</th>\n",
       "      <th>score</th>\n",
       "      <th>type</th>\n",
       "      <th>title</th>\n",
       "      <th>text</th>\n",
       "      <th>label_type</th>\n",
       "    </tr>\n",
       "    <tr>\n",
       "      <th>index</th>\n",
       "      <th></th>\n",
       "      <th></th>\n",
       "      <th></th>\n",
       "      <th></th>\n",
       "      <th></th>\n",
       "      <th></th>\n",
       "      <th></th>\n",
       "      <th></th>\n",
       "    </tr>\n",
       "  </thead>\n",
       "  <tbody>\n",
       "    <tr>\n",
       "      <th>341</th>\n",
       "      <td>ggjryy4</td>\n",
       "      <td>Really it comes down to who has the guns, and ...</td>\n",
       "      <td>NeutralPolitics</td>\n",
       "      <td>1.0</td>\n",
       "      <td>comment</td>\n",
       "      <td>None</td>\n",
       "      <td>None</td>\n",
       "      <td>neutral</td>\n",
       "    </tr>\n",
       "    <tr>\n",
       "      <th>58</th>\n",
       "      <td>ggjjtu4</td>\n",
       "      <td>It doesn't make sense.  There's absolutely no ...</td>\n",
       "      <td>Republican</td>\n",
       "      <td>5.0</td>\n",
       "      <td>comment</td>\n",
       "      <td>None</td>\n",
       "      <td>None</td>\n",
       "      <td>republican</td>\n",
       "    </tr>\n",
       "    <tr>\n",
       "      <th>2106</th>\n",
       "      <td>gd2ln00</td>\n",
       "      <td>My favorite president. Did incredible things f...</td>\n",
       "      <td>Republican</td>\n",
       "      <td>2.0</td>\n",
       "      <td>comment</td>\n",
       "      <td>None</td>\n",
       "      <td>None</td>\n",
       "      <td>republican</td>\n",
       "    </tr>\n",
       "    <tr>\n",
       "      <th>5132</th>\n",
       "      <td>ga0482e</td>\n",
       "      <td>You don't have to tell me about \"Manufacturing...</td>\n",
       "      <td>NeutralPolitics</td>\n",
       "      <td>1.0</td>\n",
       "      <td>comment</td>\n",
       "      <td>None</td>\n",
       "      <td>None</td>\n",
       "      <td>neutral</td>\n",
       "    </tr>\n",
       "    <tr>\n",
       "      <th>235</th>\n",
       "      <td>j9b5fd</td>\n",
       "      <td>One of the main selling points for republicans...</td>\n",
       "      <td>Republican</td>\n",
       "      <td>1.0</td>\n",
       "      <td>post</td>\n",
       "      <td>One of the main selling points for republicans...</td>\n",
       "      <td>[removed]</td>\n",
       "      <td>republican</td>\n",
       "    </tr>\n",
       "  </tbody>\n",
       "</table>\n",
       "</div>"
      ],
      "text/plain": [
       "            id                                         total_post  \\\n",
       "index                                                               \n",
       "341    ggjryy4  Really it comes down to who has the guns, and ...   \n",
       "58     ggjjtu4  It doesn't make sense.  There's absolutely no ...   \n",
       "2106   gd2ln00  My favorite president. Did incredible things f...   \n",
       "5132   ga0482e  You don't have to tell me about \"Manufacturing...   \n",
       "235     j9b5fd  One of the main selling points for republicans...   \n",
       "\n",
       "             subreddit  score     type  \\\n",
       "index                                    \n",
       "341    NeutralPolitics    1.0  comment   \n",
       "58          Republican    5.0  comment   \n",
       "2106        Republican    2.0  comment   \n",
       "5132   NeutralPolitics    1.0  comment   \n",
       "235         Republican    1.0     post   \n",
       "\n",
       "                                                   title       text  \\\n",
       "index                                                                 \n",
       "341                                                 None       None   \n",
       "58                                                  None       None   \n",
       "2106                                                None       None   \n",
       "5132                                                None       None   \n",
       "235    One of the main selling points for republicans...  [removed]   \n",
       "\n",
       "       label_type  \n",
       "index              \n",
       "341       neutral  \n",
       "58     republican  \n",
       "2106   republican  \n",
       "5132      neutral  \n",
       "235    republican  "
      ]
     },
     "execution_count": 39,
     "metadata": {},
     "output_type": "execute_result"
    }
   ],
   "source": [
    "train_data.head()"
   ]
  },
  {
   "cell_type": "code",
   "execution_count": 40,
   "metadata": {},
   "outputs": [],
   "source": [
    "train_x = train_data[\"total_post\"]\n",
    "train_y = train_data[\"label_type\"]\n",
    "test_x = test_data[\"total_post\"]\n",
    "test_y = test_data[\"label_type\"]\n"
   ]
  },
  {
   "cell_type": "code",
   "execution_count": 41,
   "metadata": {},
   "outputs": [],
   "source": [
    "tf_vectorizer = CountVectorizer(strip_accents=\"unicode\", lowercase = True, stop_words=\"english\") \n",
    "X_train_tf = tf_vectorizer.fit_transform(train_x)\n"
   ]
  },
  {
   "cell_type": "code",
   "execution_count": 42,
   "metadata": {},
   "outputs": [
    {
     "data": {
      "text/plain": [
       "<11605x21533 sparse matrix of type '<class 'numpy.int64'>'\n",
       "\twith 252849 stored elements in Compressed Sparse Row format>"
      ]
     },
     "execution_count": 42,
     "metadata": {},
     "output_type": "execute_result"
    }
   ],
   "source": [
    "X_train_tf"
   ]
  },
  {
   "cell_type": "code",
   "execution_count": 43,
   "metadata": {},
   "outputs": [
    {
     "name": "stderr",
     "output_type": "stream",
     "text": [
      "/Users/Razalamb1/opt/miniconda3/lib/python3.9/site-packages/sklearn/feature_extraction/text.py:1208: UserWarning: Upper case characters found in vocabulary while 'lowercase' is True. These entries will not be matched with any documents\n",
      "  warnings.warn(\n"
     ]
    }
   ],
   "source": [
    "X_test_tf = tf_vectorizer.transform(test_x)\n"
   ]
  },
  {
   "cell_type": "code",
   "execution_count": 44,
   "metadata": {},
   "outputs": [
    {
     "data": {
      "text/plain": [
       "MultinomialNB()"
      ]
     },
     "execution_count": 44,
     "metadata": {},
     "output_type": "execute_result"
    }
   ],
   "source": [
    "naive_bayes_classifier = MultinomialNB()\n",
    "naive_bayes_classifier.fit(X_train_tf, train_y)"
   ]
  },
  {
   "cell_type": "code",
   "execution_count": 45,
   "metadata": {},
   "outputs": [],
   "source": [
    "y_pred = naive_bayes_classifier.predict(X_test_tf)\n",
    "score1 = metrics.accuracy_score(test_y, y_pred)\n"
   ]
  },
  {
   "cell_type": "code",
   "execution_count": 46,
   "metadata": {},
   "outputs": [
    {
     "data": {
      "text/plain": [
       "0.6703439325113563"
      ]
     },
     "execution_count": 46,
     "metadata": {},
     "output_type": "execute_result"
    }
   ],
   "source": [
    "score1"
   ]
  },
  {
   "cell_type": "code",
   "execution_count": 47,
   "metadata": {},
   "outputs": [
    {
     "data": {
      "text/plain": [
       "array([[211,  58, 113],\n",
       "       [ 84, 483,  86],\n",
       "       [102,  65, 339]])"
      ]
     },
     "execution_count": 47,
     "metadata": {},
     "output_type": "execute_result"
    }
   ],
   "source": [
    "metrics.confusion_matrix(test_y, y_pred)"
   ]
  },
  {
   "cell_type": "code",
   "execution_count": 48,
   "metadata": {},
   "outputs": [
    {
     "data": {
      "text/plain": [
       "array(['democrat', 'democrat', 'democrat', ..., 'neutral', 'democrat',\n",
       "       'democrat'], dtype='<U10')"
      ]
     },
     "execution_count": 48,
     "metadata": {},
     "output_type": "execute_result"
    }
   ],
   "source": [
    "y_pred"
   ]
  },
  {
   "cell_type": "code",
   "execution_count": 49,
   "metadata": {},
   "outputs": [
    {
     "data": {
      "text/html": [
       "<div>\n",
       "<style scoped>\n",
       "    .dataframe tbody tr th:only-of-type {\n",
       "        vertical-align: middle;\n",
       "    }\n",
       "\n",
       "    .dataframe tbody tr th {\n",
       "        vertical-align: top;\n",
       "    }\n",
       "\n",
       "    .dataframe thead th {\n",
       "        text-align: right;\n",
       "    }\n",
       "</style>\n",
       "<table border=\"1\" class=\"dataframe\">\n",
       "  <thead>\n",
       "    <tr style=\"text-align: right;\">\n",
       "      <th></th>\n",
       "      <th>index</th>\n",
       "      <th>id</th>\n",
       "      <th>total_post</th>\n",
       "      <th>subreddit</th>\n",
       "      <th>score</th>\n",
       "      <th>type</th>\n",
       "      <th>title</th>\n",
       "      <th>text</th>\n",
       "      <th>label_type</th>\n",
       "    </tr>\n",
       "  </thead>\n",
       "  <tbody>\n",
       "    <tr>\n",
       "      <th>0</th>\n",
       "      <td>341</td>\n",
       "      <td>ggjryy4</td>\n",
       "      <td>Really it comes down to who has the guns, and ...</td>\n",
       "      <td>NeutralPolitics</td>\n",
       "      <td>1.0</td>\n",
       "      <td>comment</td>\n",
       "      <td>None</td>\n",
       "      <td>None</td>\n",
       "      <td>neutral</td>\n",
       "    </tr>\n",
       "    <tr>\n",
       "      <th>1</th>\n",
       "      <td>58</td>\n",
       "      <td>ggjjtu4</td>\n",
       "      <td>It doesn't make sense.  There's absolutely no ...</td>\n",
       "      <td>Republican</td>\n",
       "      <td>5.0</td>\n",
       "      <td>comment</td>\n",
       "      <td>None</td>\n",
       "      <td>None</td>\n",
       "      <td>republican</td>\n",
       "    </tr>\n",
       "    <tr>\n",
       "      <th>2</th>\n",
       "      <td>2106</td>\n",
       "      <td>gd2ln00</td>\n",
       "      <td>My favorite president. Did incredible things f...</td>\n",
       "      <td>Republican</td>\n",
       "      <td>2.0</td>\n",
       "      <td>comment</td>\n",
       "      <td>None</td>\n",
       "      <td>None</td>\n",
       "      <td>republican</td>\n",
       "    </tr>\n",
       "    <tr>\n",
       "      <th>3</th>\n",
       "      <td>5132</td>\n",
       "      <td>ga0482e</td>\n",
       "      <td>You don't have to tell me about \"Manufacturing...</td>\n",
       "      <td>NeutralPolitics</td>\n",
       "      <td>1.0</td>\n",
       "      <td>comment</td>\n",
       "      <td>None</td>\n",
       "      <td>None</td>\n",
       "      <td>neutral</td>\n",
       "    </tr>\n",
       "    <tr>\n",
       "      <th>4</th>\n",
       "      <td>235</td>\n",
       "      <td>j9b5fd</td>\n",
       "      <td>One of the main selling points for republicans...</td>\n",
       "      <td>Republican</td>\n",
       "      <td>1.0</td>\n",
       "      <td>post</td>\n",
       "      <td>One of the main selling points for republicans...</td>\n",
       "      <td>[removed]</td>\n",
       "      <td>republican</td>\n",
       "    </tr>\n",
       "    <tr>\n",
       "      <th>...</th>\n",
       "      <td>...</td>\n",
       "      <td>...</td>\n",
       "      <td>...</td>\n",
       "      <td>...</td>\n",
       "      <td>...</td>\n",
       "      <td>...</td>\n",
       "      <td>...</td>\n",
       "      <td>...</td>\n",
       "      <td>...</td>\n",
       "    </tr>\n",
       "    <tr>\n",
       "      <th>11600</th>\n",
       "      <td>4513</td>\n",
       "      <td>g5j2dl0</td>\n",
       "      <td>How exactly? When people don't comply and put ...</td>\n",
       "      <td>Republican</td>\n",
       "      <td>3.0</td>\n",
       "      <td>comment</td>\n",
       "      <td>None</td>\n",
       "      <td>None</td>\n",
       "      <td>republican</td>\n",
       "    </tr>\n",
       "    <tr>\n",
       "      <th>11601</th>\n",
       "      <td>23926</td>\n",
       "      <td>fkrk37j</td>\n",
       "      <td>Since I'm in the US and don't really do much w...</td>\n",
       "      <td>NeutralPolitics</td>\n",
       "      <td>1.0</td>\n",
       "      <td>comment</td>\n",
       "      <td>None</td>\n",
       "      <td>None</td>\n",
       "      <td>neutral</td>\n",
       "    </tr>\n",
       "    <tr>\n",
       "      <th>11602</th>\n",
       "      <td>8125</td>\n",
       "      <td>fyue5eo</td>\n",
       "      <td>Don't forget she also claimed you needed to as...</td>\n",
       "      <td>Republican</td>\n",
       "      <td>7.0</td>\n",
       "      <td>comment</td>\n",
       "      <td>None</td>\n",
       "      <td>None</td>\n",
       "      <td>republican</td>\n",
       "    </tr>\n",
       "    <tr>\n",
       "      <th>11603</th>\n",
       "      <td>10632</td>\n",
       "      <td>g4qssr3</td>\n",
       "      <td>No it just means the pope gave him communion. ...</td>\n",
       "      <td>NeutralPolitics</td>\n",
       "      <td>1.0</td>\n",
       "      <td>comment</td>\n",
       "      <td>None</td>\n",
       "      <td>None</td>\n",
       "      <td>neutral</td>\n",
       "    </tr>\n",
       "    <tr>\n",
       "      <th>11604</th>\n",
       "      <td>6271</td>\n",
       "      <td>g1n4ckr</td>\n",
       "      <td>Do people not understand the difference betwee...</td>\n",
       "      <td>Republican</td>\n",
       "      <td>5.0</td>\n",
       "      <td>comment</td>\n",
       "      <td>None</td>\n",
       "      <td>None</td>\n",
       "      <td>republican</td>\n",
       "    </tr>\n",
       "  </tbody>\n",
       "</table>\n",
       "<p>11605 rows × 9 columns</p>\n",
       "</div>"
      ],
      "text/plain": [
       "       index       id                                         total_post  \\\n",
       "0        341  ggjryy4  Really it comes down to who has the guns, and ...   \n",
       "1         58  ggjjtu4  It doesn't make sense.  There's absolutely no ...   \n",
       "2       2106  gd2ln00  My favorite president. Did incredible things f...   \n",
       "3       5132  ga0482e  You don't have to tell me about \"Manufacturing...   \n",
       "4        235   j9b5fd  One of the main selling points for republicans...   \n",
       "...      ...      ...                                                ...   \n",
       "11600   4513  g5j2dl0  How exactly? When people don't comply and put ...   \n",
       "11601  23926  fkrk37j  Since I'm in the US and don't really do much w...   \n",
       "11602   8125  fyue5eo  Don't forget she also claimed you needed to as...   \n",
       "11603  10632  g4qssr3  No it just means the pope gave him communion. ...   \n",
       "11604   6271  g1n4ckr  Do people not understand the difference betwee...   \n",
       "\n",
       "             subreddit  score     type  \\\n",
       "0      NeutralPolitics    1.0  comment   \n",
       "1           Republican    5.0  comment   \n",
       "2           Republican    2.0  comment   \n",
       "3      NeutralPolitics    1.0  comment   \n",
       "4           Republican    1.0     post   \n",
       "...                ...    ...      ...   \n",
       "11600       Republican    3.0  comment   \n",
       "11601  NeutralPolitics    1.0  comment   \n",
       "11602       Republican    7.0  comment   \n",
       "11603  NeutralPolitics    1.0  comment   \n",
       "11604       Republican    5.0  comment   \n",
       "\n",
       "                                                   title       text  \\\n",
       "0                                                   None       None   \n",
       "1                                                   None       None   \n",
       "2                                                   None       None   \n",
       "3                                                   None       None   \n",
       "4      One of the main selling points for republicans...  [removed]   \n",
       "...                                                  ...        ...   \n",
       "11600                                               None       None   \n",
       "11601                                               None       None   \n",
       "11602                                               None       None   \n",
       "11603                                               None       None   \n",
       "11604                                               None       None   \n",
       "\n",
       "       label_type  \n",
       "0         neutral  \n",
       "1      republican  \n",
       "2      republican  \n",
       "3         neutral  \n",
       "4      republican  \n",
       "...           ...  \n",
       "11600  republican  \n",
       "11601     neutral  \n",
       "11602  republican  \n",
       "11603     neutral  \n",
       "11604  republican  \n",
       "\n",
       "[11605 rows x 9 columns]"
      ]
     },
     "execution_count": 49,
     "metadata": {},
     "output_type": "execute_result"
    }
   ],
   "source": [
    "train_data.reset_index()"
   ]
  }
 ],
 "metadata": {
  "interpreter": {
   "hash": "84b1e2213175d1b29c0c106fcfdfa2350458511224f0b9c320f712c5e7a09711"
  },
  "kernelspec": {
   "display_name": "Python 3.9.7 64-bit ('base': conda)",
   "language": "python",
   "name": "python3"
  },
  "language_info": {
   "codemirror_mode": {
    "name": "ipython",
    "version": 3
   },
   "file_extension": ".py",
   "mimetype": "text/x-python",
   "name": "python",
   "nbconvert_exporter": "python",
   "pygments_lexer": "ipython3",
   "version": "3.9.7"
  },
  "orig_nbformat": 4
 },
 "nbformat": 4,
 "nbformat_minor": 2
}
